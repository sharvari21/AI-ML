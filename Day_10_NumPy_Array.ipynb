{
 "cells": [
  {
   "cell_type": "markdown",
   "metadata": {},
   "source": [
    "# Question 1:\n",
    "__Create an element-wise comparison (greater, greater_equal, less and less_equal) of two given arrays__"
   ]
  },
  {
   "cell_type": "code",
   "execution_count": 8,
   "metadata": {},
   "outputs": [
    {
     "name": "stdout",
     "output_type": "stream",
     "text": [
      "Original Array:\n",
      "[2 0 8 6 9 5]\n",
      "[5 7 9 3 4 6]\n",
      "1. Greater comparison of array:\n",
      "\n",
      "[False False False  True  True False]\n",
      "\n",
      "2. Greater_equal comparison of array:\n",
      "\n",
      "[False False False  True  True False]\n",
      "\n",
      "3. Less comparison of array:\n",
      "\n",
      "[ True  True  True False False  True]\n",
      "\n",
      "4. Less_equal comparison of array:\n",
      "\n",
      "[ True  True  True False False  True]\n"
     ]
    }
   ],
   "source": [
    "import numpy as npy\n",
    "\n",
    "a1 = npy.array([2,0,8,6,9,5])\n",
    "a2 = npy.array([5,7,9,3,4,6])\n",
    "print(\"Original Array:\")\n",
    "print(a1)\n",
    "print(a2)\n",
    "print('1. Greater comparison of array:\\n')\n",
    "print(npy.greater(a1,a2))\n",
    "print('\\n2. Greater_equal comparison of array:\\n')\n",
    "print(npy.greater_equal(a1,a2))\n",
    "print('\\n3. Less comparison of array:\\n')\n",
    "print(npy.less(a1,a2))\n",
    "print('\\n4. Less_equal comparison of array:\\n')\n",
    "print(npy.less_equal(a1,a2))"
   ]
  },
  {
   "cell_type": "markdown",
   "metadata": {},
   "source": [
    "# Question 2:\n",
    "__Write a NumPy program to create an array of 10 zeros,10 ones, 10 fives__"
   ]
  },
  {
   "cell_type": "code",
   "execution_count": 12,
   "metadata": {},
   "outputs": [
    {
     "name": "stdout",
     "output_type": "stream",
     "text": [
      "1. Array of 10 zeroes as follows:\n",
      "\n",
      "[0. 0. 0. 0. 0. 0. 0. 0. 0. 0.]\n",
      "\n",
      "2. Array of 10 ones as follows:\n",
      "\n",
      "[1. 1. 1. 1. 1. 1. 1. 1. 1. 1.]\n",
      "\n",
      "3. Array of 10 fives as follows:\n",
      "\n",
      "[5. 5. 5. 5. 5. 5. 5. 5. 5. 5.]\n"
     ]
    }
   ],
   "source": [
    "print('1. Array of 10 zeroes as follows:\\n')\n",
    "x = npy.zeros(10)\n",
    "print(x)\n",
    "print('\\n2. Array of 10 ones as follows:\\n')\n",
    "x = npy.ones(10)\n",
    "print(x)\n",
    "print('\\n3. Array of 10 fives as follows:\\n')\n",
    "x = npy.ones(10)*5\n",
    "print(x)"
   ]
  },
  {
   "cell_type": "markdown",
   "metadata": {},
   "source": [
    "# Question 3:\n",
    "__Write a NumPy program to compute sum of all elements, sum of each column and sum of each row of a\n",
    "given array__"
   ]
  },
  {
   "cell_type": "code",
   "execution_count": 18,
   "metadata": {},
   "outputs": [
    {
     "name": "stdout",
     "output_type": "stream",
     "text": [
      "Original Array:\n",
      " [[2 0 8 6 9 5]\n",
      " [5 7 9 3 4 6]]\n",
      "\n",
      "Sum of all elements are as follows:\n",
      "\n",
      "64\n",
      "\n",
      "Sum of all each column are as follows:\n",
      "\n",
      "[ 7  7 17  9 13 11]\n",
      "\n",
      "Sum of all each row are as follows:\n",
      "\n",
      "[30 34]\n"
     ]
    }
   ],
   "source": [
    "a = npy.array([[2,0,8,6,9,5],[5,7,9,3,4,6]])\n",
    "print('Original Array:\\n',a)\n",
    "print('\\nSum of all elements are as follows:\\n')\n",
    "print(npy.sum(a))\n",
    "print('\\nSum of all each column are as follows:\\n')\n",
    "print(npy.sum(a,axis=0))\n",
    "print('\\nSum of all each row are as follows:\\n')\n",
    "print(npy.sum(a,axis=1))"
   ]
  },
  {
   "cell_type": "markdown",
   "metadata": {},
   "source": [
    "# Question 4:\n",
    "__Write a NumPy program to add, subtract, multiply, divide arguments element-wise.__"
   ]
  },
  {
   "cell_type": "code",
   "execution_count": 32,
   "metadata": {},
   "outputs": [
    {
     "name": "stdout",
     "output_type": "stream",
     "text": [
      "First array:\n",
      "\n",
      "[[2 6 4]\n",
      " [3 7 5]\n",
      " [6 9 6]]\n",
      "\n",
      "Second array:\n",
      "\n",
      "[[7 5 2]\n",
      " [1 2 4]\n",
      " [7 6 4]]\n",
      "\n",
      "Addition:\n",
      "\n",
      "[[ 9 11  6]\n",
      " [ 4  9  9]\n",
      " [13 15 10]]\n",
      "\n",
      "Subtraction:\n",
      "\n",
      "[[-5  1  2]\n",
      " [ 2  5  1]\n",
      " [-1  3  2]]\n",
      "\n",
      "Multiplication:\n",
      "\n",
      "[[14 30  8]\n",
      " [ 3 14 20]\n",
      " [42 54 24]]\n",
      "\n",
      "Divide:\n",
      "\n",
      "[[0.28571429 1.2        2.        ]\n",
      " [3.         3.5        1.25      ]\n",
      " [0.85714286 1.5        1.5       ]]\n"
     ]
    }
   ],
   "source": [
    "a1 = npy.array([[2,6,4],[3,7,5],[6,9,6]])\n",
    "a2 = npy.array([[7,5,2],[1,2,4],[7,6,4]])\n",
    "print('First array:\\n')\n",
    "print(a1)\n",
    "print('\\nSecond array:\\n')\n",
    "print(a2)\n",
    "print('\\nAddition:\\n')\n",
    "print(npy.add(a1,a2))\n",
    "print('\\nSubtraction:\\n')\n",
    "print(npy.subtract(a1,a2))\n",
    "print('\\nMultiplication:\\n')\n",
    "print(npy.multiply(a1,a2))\n",
    "print('\\nDivide:\\n')\n",
    "print(npy.divide(a1,a2))"
   ]
  },
  {
   "cell_type": "markdown",
   "metadata": {},
   "source": [
    "# Question 5:\n",
    "__Write a NumPy program to compute the trigonometric sine, cosine and tangent array of angles given in\n",
    "degree.__"
   ]
  },
  {
   "cell_type": "code",
   "execution_count": 34,
   "metadata": {},
   "outputs": [
    {
     "name": "stdout",
     "output_type": "stream",
     "text": [
      "Trigonometric sine:\n",
      "[[ 0.01587023 -0.00487672 -0.0132087  -0.00487672  0.00719282 -0.00487672]]\n",
      "\n",
      "Trigonometric cosine:\n",
      "[[-0.00726313  0.01675813 -0.01140823  0.01675813 -0.01590222  0.01675813]]\n"
     ]
    }
   ],
   "source": [
    "a1 = npy.array([[2,6,4,6,9,6]])\n",
    "print('Trigonometric sine:')\n",
    "print(npy.sin(a1)*npy.pi/180)\n",
    "print('\\nTrigonometric cosine:')\n",
    "print(npy.cos(a1)*npy.pi/180)\n",
    "print('\\nTrigonometric cosine:')\n",
    "print(npy.tan(a1)*npy.pi/180)"
   ]
  },
  {
   "cell_type": "markdown",
   "metadata": {},
   "source": [
    "# Question 6:\n",
    "__Write a Pandas program to create and display a DataFrame from a specified dictionary data which has the\n",
    "index labels__"
   ]
  },
  {
   "cell_type": "code",
   "execution_count": 3,
   "metadata": {},
   "outputs": [
    {
     "name": "stdout",
     "output_type": "stream",
     "text": [
      "        name  score qualify\n",
      "a  Anastasia   12.5     yes\n",
      "b       Dima    9.0      no\n",
      "c  Katherine   16.5     yes\n",
      "d      James    NaN      no\n",
      "e      Emily    9.0      no\n",
      "f    Michael   20.0     yes\n",
      "g    Matthew   14.5     yes\n",
      "h      Laura    NaN      no\n",
      "i      Kevin    8.0      no\n",
      "j      Jonas   19.0     yes\n"
     ]
    }
   ],
   "source": [
    "import pandas as pd\n",
    "import numpy as npy\n",
    "\n",
    "exam_data  = {'name': ['Anastasia', 'Dima', 'Katherine', 'James', 'Emily', 'Michael', 'Matthew', 'Laura', 'Kevin', 'Jonas'],\n",
    "        'score': [12.5, 9, 16.5, npy.nan, 9, 20, 14.5, npy.nan, 8, 19],\n",
    "        'qualify': ['yes', 'no', 'yes', 'no', 'no', 'yes', 'yes', 'no', 'no', 'yes']}\n",
    "labels = ['a', 'b', 'c', 'd', 'e', 'f', 'g', 'h', 'i', 'j']\n",
    "\n",
    "df = pd.DataFrame(exam_data , index=labels)\n",
    "print(df)\n",
    "\n"
   ]
  },
  {
   "cell_type": "markdown",
   "metadata": {},
   "source": [
    "# Question 7:\n",
    "__Write a Pandas program to select the 'name' and 'score' columns from the following DataFrame.__"
   ]
  },
  {
   "cell_type": "code",
   "execution_count": 6,
   "metadata": {},
   "outputs": [
    {
     "name": "stdout",
     "output_type": "stream",
     "text": [
      "Columns are as follows:\n"
     ]
    },
    {
     "data": {
      "text/html": [
       "<div>\n",
       "<style scoped>\n",
       "    .dataframe tbody tr th:only-of-type {\n",
       "        vertical-align: middle;\n",
       "    }\n",
       "\n",
       "    .dataframe tbody tr th {\n",
       "        vertical-align: top;\n",
       "    }\n",
       "\n",
       "    .dataframe thead th {\n",
       "        text-align: right;\n",
       "    }\n",
       "</style>\n",
       "<table border=\"1\" class=\"dataframe\">\n",
       "  <thead>\n",
       "    <tr style=\"text-align: right;\">\n",
       "      <th></th>\n",
       "      <th>name</th>\n",
       "      <th>score</th>\n",
       "    </tr>\n",
       "  </thead>\n",
       "  <tbody>\n",
       "    <tr>\n",
       "      <th>a</th>\n",
       "      <td>Anastasia</td>\n",
       "      <td>12.5</td>\n",
       "    </tr>\n",
       "    <tr>\n",
       "      <th>b</th>\n",
       "      <td>Dima</td>\n",
       "      <td>9.0</td>\n",
       "    </tr>\n",
       "    <tr>\n",
       "      <th>c</th>\n",
       "      <td>Katherine</td>\n",
       "      <td>16.5</td>\n",
       "    </tr>\n",
       "    <tr>\n",
       "      <th>d</th>\n",
       "      <td>James</td>\n",
       "      <td>NaN</td>\n",
       "    </tr>\n",
       "    <tr>\n",
       "      <th>e</th>\n",
       "      <td>Emily</td>\n",
       "      <td>9.0</td>\n",
       "    </tr>\n",
       "    <tr>\n",
       "      <th>f</th>\n",
       "      <td>Michael</td>\n",
       "      <td>20.0</td>\n",
       "    </tr>\n",
       "    <tr>\n",
       "      <th>g</th>\n",
       "      <td>Matthew</td>\n",
       "      <td>14.5</td>\n",
       "    </tr>\n",
       "    <tr>\n",
       "      <th>h</th>\n",
       "      <td>Laura</td>\n",
       "      <td>NaN</td>\n",
       "    </tr>\n",
       "    <tr>\n",
       "      <th>i</th>\n",
       "      <td>Kevin</td>\n",
       "      <td>8.0</td>\n",
       "    </tr>\n",
       "    <tr>\n",
       "      <th>j</th>\n",
       "      <td>Jonas</td>\n",
       "      <td>19.0</td>\n",
       "    </tr>\n",
       "  </tbody>\n",
       "</table>\n",
       "</div>"
      ],
      "text/plain": [
       "        name  score\n",
       "a  Anastasia   12.5\n",
       "b       Dima    9.0\n",
       "c  Katherine   16.5\n",
       "d      James    NaN\n",
       "e      Emily    9.0\n",
       "f    Michael   20.0\n",
       "g    Matthew   14.5\n",
       "h      Laura    NaN\n",
       "i      Kevin    8.0\n",
       "j      Jonas   19.0"
      ]
     },
     "execution_count": 6,
     "metadata": {},
     "output_type": "execute_result"
    }
   ],
   "source": [
    "print('Columns are as follows:')\n",
    "\n",
    "df[['name','score']]"
   ]
  },
  {
   "cell_type": "markdown",
   "metadata": {},
   "source": [
    "# Question 8:\n",
    "__Write a Pandas program to join the two given dataframes along rows and assign all data.__"
   ]
  },
  {
   "cell_type": "code",
   "execution_count": 16,
   "metadata": {},
   "outputs": [
    {
     "name": "stdout",
     "output_type": "stream",
     "text": [
      "First DataFrame:\n",
      "\n"
     ]
    },
    {
     "data": {
      "text/html": [
       "<div>\n",
       "<style scoped>\n",
       "    .dataframe tbody tr th:only-of-type {\n",
       "        vertical-align: middle;\n",
       "    }\n",
       "\n",
       "    .dataframe tbody tr th {\n",
       "        vertical-align: top;\n",
       "    }\n",
       "\n",
       "    .dataframe thead th {\n",
       "        text-align: right;\n",
       "    }\n",
       "</style>\n",
       "<table border=\"1\" class=\"dataframe\">\n",
       "  <thead>\n",
       "    <tr style=\"text-align: right;\">\n",
       "      <th></th>\n",
       "      <th>st_id</th>\n",
       "      <th>st_nm</th>\n",
       "      <th>marks</th>\n",
       "    </tr>\n",
       "  </thead>\n",
       "  <tbody>\n",
       "    <tr>\n",
       "      <th>e</th>\n",
       "      <td>1</td>\n",
       "      <td>sagar</td>\n",
       "      <td>23</td>\n",
       "    </tr>\n",
       "    <tr>\n",
       "      <th>b</th>\n",
       "      <td>2</td>\n",
       "      <td>madhav</td>\n",
       "      <td>45</td>\n",
       "    </tr>\n",
       "    <tr>\n",
       "      <th>d</th>\n",
       "      <td>3</td>\n",
       "      <td>raju</td>\n",
       "      <td>76</td>\n",
       "    </tr>\n",
       "    <tr>\n",
       "      <th>c</th>\n",
       "      <td>4</td>\n",
       "      <td>reva</td>\n",
       "      <td>43</td>\n",
       "    </tr>\n",
       "    <tr>\n",
       "      <th>a</th>\n",
       "      <td>5</td>\n",
       "      <td>pooja</td>\n",
       "      <td>65</td>\n",
       "    </tr>\n",
       "  </tbody>\n",
       "</table>\n",
       "</div>"
      ],
      "text/plain": [
       "   st_id   st_nm  marks\n",
       "e      1   sagar     23\n",
       "b      2  madhav     45\n",
       "d      3    raju     76\n",
       "c      4    reva     43\n",
       "a      5   pooja     65"
      ]
     },
     "execution_count": 16,
     "metadata": {},
     "output_type": "execute_result"
    }
   ],
   "source": [
    "stud_data = {'st_id':[1,2,3,4,5],'st_nm':['sagar','madhav','raju','reva','pooja'],'marks':[23,45,76,43,65]}\n",
    "labels = {'a','b','c','d','e'}\n",
    "res = pd.DataFrame(stud_data , index=labels)\n",
    "print('First DataFrame:\\n')\n",
    "res\n"
   ]
  },
  {
   "cell_type": "code",
   "execution_count": 17,
   "metadata": {},
   "outputs": [
    {
     "name": "stdout",
     "output_type": "stream",
     "text": [
      "Second DataFrame:\n",
      "\n"
     ]
    },
    {
     "data": {
      "text/html": [
       "<div>\n",
       "<style scoped>\n",
       "    .dataframe tbody tr th:only-of-type {\n",
       "        vertical-align: middle;\n",
       "    }\n",
       "\n",
       "    .dataframe tbody tr th {\n",
       "        vertical-align: top;\n",
       "    }\n",
       "\n",
       "    .dataframe thead th {\n",
       "        text-align: right;\n",
       "    }\n",
       "</style>\n",
       "<table border=\"1\" class=\"dataframe\">\n",
       "  <thead>\n",
       "    <tr style=\"text-align: right;\">\n",
       "      <th></th>\n",
       "      <th>st_id</th>\n",
       "      <th>st_nm</th>\n",
       "      <th>marks</th>\n",
       "    </tr>\n",
       "  </thead>\n",
       "  <tbody>\n",
       "    <tr>\n",
       "      <th>d</th>\n",
       "      <td>9</td>\n",
       "      <td>sameer</td>\n",
       "      <td>43</td>\n",
       "    </tr>\n",
       "    <tr>\n",
       "      <th>b</th>\n",
       "      <td>8</td>\n",
       "      <td>maddy</td>\n",
       "      <td>65</td>\n",
       "    </tr>\n",
       "    <tr>\n",
       "      <th>c</th>\n",
       "      <td>7</td>\n",
       "      <td>ruhi</td>\n",
       "      <td>98</td>\n",
       "    </tr>\n",
       "    <tr>\n",
       "      <th>a</th>\n",
       "      <td>6</td>\n",
       "      <td>revati</td>\n",
       "      <td>56</td>\n",
       "    </tr>\n",
       "  </tbody>\n",
       "</table>\n",
       "</div>"
      ],
      "text/plain": [
       "   st_id   st_nm  marks\n",
       "d      9  sameer     43\n",
       "b      8   maddy     65\n",
       "c      7    ruhi     98\n",
       "a      6  revati     56"
      ]
     },
     "execution_count": 17,
     "metadata": {},
     "output_type": "execute_result"
    }
   ],
   "source": [
    "stud_data2 = {'st_id':[9,8,7,6],'st_nm':['sameer','maddy','ruhi','revati'],'marks':[43,65,98,56]}\n",
    "label2 = {'a','b','c','d'}\n",
    "res2 = pd.DataFrame(stud_data2 , index=label2)\n",
    "print('Second DataFrame:\\n')\n",
    "res2"
   ]
  },
  {
   "cell_type": "code",
   "execution_count": 19,
   "metadata": {},
   "outputs": [
    {
     "name": "stdout",
     "output_type": "stream",
     "text": [
      "Joinning Two dataframe by row with all data:\n",
      "\n"
     ]
    },
    {
     "data": {
      "text/html": [
       "<div>\n",
       "<style scoped>\n",
       "    .dataframe tbody tr th:only-of-type {\n",
       "        vertical-align: middle;\n",
       "    }\n",
       "\n",
       "    .dataframe tbody tr th {\n",
       "        vertical-align: top;\n",
       "    }\n",
       "\n",
       "    .dataframe thead th {\n",
       "        text-align: right;\n",
       "    }\n",
       "</style>\n",
       "<table border=\"1\" class=\"dataframe\">\n",
       "  <thead>\n",
       "    <tr style=\"text-align: right;\">\n",
       "      <th></th>\n",
       "      <th>st_id</th>\n",
       "      <th>st_nm</th>\n",
       "      <th>marks</th>\n",
       "    </tr>\n",
       "  </thead>\n",
       "  <tbody>\n",
       "    <tr>\n",
       "      <th>e</th>\n",
       "      <td>1</td>\n",
       "      <td>sagar</td>\n",
       "      <td>23</td>\n",
       "    </tr>\n",
       "    <tr>\n",
       "      <th>b</th>\n",
       "      <td>2</td>\n",
       "      <td>madhav</td>\n",
       "      <td>45</td>\n",
       "    </tr>\n",
       "    <tr>\n",
       "      <th>d</th>\n",
       "      <td>3</td>\n",
       "      <td>raju</td>\n",
       "      <td>76</td>\n",
       "    </tr>\n",
       "    <tr>\n",
       "      <th>c</th>\n",
       "      <td>4</td>\n",
       "      <td>reva</td>\n",
       "      <td>43</td>\n",
       "    </tr>\n",
       "    <tr>\n",
       "      <th>a</th>\n",
       "      <td>5</td>\n",
       "      <td>pooja</td>\n",
       "      <td>65</td>\n",
       "    </tr>\n",
       "    <tr>\n",
       "      <th>d</th>\n",
       "      <td>9</td>\n",
       "      <td>sameer</td>\n",
       "      <td>43</td>\n",
       "    </tr>\n",
       "    <tr>\n",
       "      <th>b</th>\n",
       "      <td>8</td>\n",
       "      <td>maddy</td>\n",
       "      <td>65</td>\n",
       "    </tr>\n",
       "    <tr>\n",
       "      <th>c</th>\n",
       "      <td>7</td>\n",
       "      <td>ruhi</td>\n",
       "      <td>98</td>\n",
       "    </tr>\n",
       "    <tr>\n",
       "      <th>a</th>\n",
       "      <td>6</td>\n",
       "      <td>revati</td>\n",
       "      <td>56</td>\n",
       "    </tr>\n",
       "  </tbody>\n",
       "</table>\n",
       "</div>"
      ],
      "text/plain": [
       "   st_id   st_nm  marks\n",
       "e      1   sagar     23\n",
       "b      2  madhav     45\n",
       "d      3    raju     76\n",
       "c      4    reva     43\n",
       "a      5   pooja     65\n",
       "d      9  sameer     43\n",
       "b      8   maddy     65\n",
       "c      7    ruhi     98\n",
       "a      6  revati     56"
      ]
     },
     "execution_count": 19,
     "metadata": {},
     "output_type": "execute_result"
    }
   ],
   "source": [
    "print('Joinning Two dataframe by row with all data:\\n')\n",
    "result = pd.concat([res,res2])\n",
    "result"
   ]
  },
  {
   "cell_type": "markdown",
   "metadata": {},
   "source": [
    "# Question 9:\n",
    "__Write a Pandas program to detect missing values of a given DataFrame. Display True or False.__"
   ]
  },
  {
   "cell_type": "code",
   "execution_count": 24,
   "metadata": {},
   "outputs": [
    {
     "name": "stdout",
     "output_type": "stream",
     "text": [
      "Original DataFrame:\n",
      "   st_id   st_nm  marks\n",
      "e      1   sagar   23.0\n",
      "b      2  madhav    NaN\n",
      "d      3    raju   45.0\n",
      "c      4     NaN    NaN\n",
      "f      5    reva   76.0\n",
      "a      9   pooja   43.0\n",
      "g      8     NaN   65.0\n",
      "\n",
      "Missing Value Display True or False:\n",
      "   st_id  st_nm  marks\n",
      "e  False  False  False\n",
      "b  False  False   True\n",
      "d  False  False  False\n",
      "c  False   True   True\n",
      "f  False  False  False\n",
      "a  False  False  False\n",
      "g  False   True  False\n"
     ]
    }
   ],
   "source": [
    "stud_data = {'st_id':[1,2,3,4,5,9,8],'st_nm':['sagar','madhav','raju',npy.nan,'reva','pooja',npy.nan],\n",
    "             'marks':[23,npy.nan,45,npy.nan,76,43,65]}\n",
    "label = {'a','b','c','d','e','f','g'}\n",
    "res = pd.DataFrame(stud_data,index=label)\n",
    "print('Original DataFrame:')\n",
    "print(res)\n",
    "print('\\nMissing Value Display True or False:')\n",
    "print(res.isna())"
   ]
  },
  {
   "cell_type": "markdown",
   "metadata": {},
   "source": [
    "# Question 10:\n",
    "__Write a Pandas program to create and display a one-dimensional array-like object containing an array of\n",
    "data.__"
   ]
  },
  {
   "cell_type": "code",
   "execution_count": 31,
   "metadata": {},
   "outputs": [
    {
     "data": {
      "text/plain": [
       "0      sharvari\n",
       "1    Rajeshwari\n",
       "2      Sourabhi\n",
       "3        Lavina\n",
       "dtype: object"
      ]
     },
     "execution_count": 31,
     "metadata": {},
     "output_type": "execute_result"
    }
   ],
   "source": [
    "res1 = pd.Series(['sharvari','Rajeshwari','Sourabhi','Lavina'])\n",
    "# res = pd.Series([1,2,3,45,5,6])\n",
    "# res\n",
    "res1"
   ]
  }
 ],
 "metadata": {
  "kernelspec": {
   "display_name": "Python 3",
   "language": "python",
   "name": "python3"
  },
  "language_info": {
   "codemirror_mode": {
    "name": "ipython",
    "version": 3
   },
   "file_extension": ".py",
   "mimetype": "text/x-python",
   "name": "python",
   "nbconvert_exporter": "python",
   "pygments_lexer": "ipython3",
   "version": "3.7.6"
  }
 },
 "nbformat": 4,
 "nbformat_minor": 4
}
