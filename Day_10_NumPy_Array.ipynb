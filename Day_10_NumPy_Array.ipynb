{
 "cells": [
  {
   "cell_type": "markdown",
   "metadata": {},
   "source": [
    "# Question 1:\n",
    "__Create an element-wise comparison (greater, greater_equal, less and less_equal) of two given arrays__"
   ]
  },
  {
   "cell_type": "code",
   "execution_count": 8,
   "metadata": {},
   "outputs": [
    {
     "name": "stdout",
     "output_type": "stream",
     "text": [
      "Original Array:\n",
      "[2 0 8 6 9 5]\n",
      "[5 7 9 3 4 6]\n",
      "1. Greater comparison of array:\n",
      "\n",
      "[False False False  True  True False]\n",
      "\n",
      "2. Greater_equal comparison of array:\n",
      "\n",
      "[False False False  True  True False]\n",
      "\n",
      "3. Less comparison of array:\n",
      "\n",
      "[ True  True  True False False  True]\n",
      "\n",
      "4. Less_equal comparison of array:\n",
      "\n",
      "[ True  True  True False False  True]\n"
     ]
    }
   ],
   "source": [
    "import numpy as npy\n",
    "\n",
    "a1 = npy.array([2,0,8,6,9,5])\n",
    "a2 = npy.array([5,7,9,3,4,6])\n",
    "print(\"Original Array:\")\n",
    "print(a1)\n",
    "print(a2)\n",
    "print('1. Greater comparison of array:\\n')\n",
    "print(npy.greater(a1,a2))\n",
    "print('\\n2. Greater_equal comparison of array:\\n')\n",
    "print(npy.greater_equal(a1,a2))\n",
    "print('\\n3. Less comparison of array:\\n')\n",
    "print(npy.less(a1,a2))\n",
    "print('\\n4. Less_equal comparison of array:\\n')\n",
    "print(npy.less_equal(a1,a2))"
   ]
  },
  {
   "cell_type": "markdown",
   "metadata": {},
   "source": [
    "# Question 2:\n",
    "__Write a NumPy program to create an array of 10 zeros,10 ones, 10 fives__"
   ]
  },
  {
   "cell_type": "code",
   "execution_count": 12,
   "metadata": {},
   "outputs": [
    {
     "name": "stdout",
     "output_type": "stream",
     "text": [
      "1. Array of 10 zeroes as follows:\n",
      "\n",
      "[0. 0. 0. 0. 0. 0. 0. 0. 0. 0.]\n",
      "\n",
      "2. Array of 10 ones as follows:\n",
      "\n",
      "[1. 1. 1. 1. 1. 1. 1. 1. 1. 1.]\n",
      "\n",
      "3. Array of 10 fives as follows:\n",
      "\n",
      "[5. 5. 5. 5. 5. 5. 5. 5. 5. 5.]\n"
     ]
    }
   ],
   "source": [
    "print('1. Array of 10 zeroes as follows:\\n')\n",
    "x = npy.zeros(10)\n",
    "print(x)\n",
    "print('\\n2. Array of 10 ones as follows:\\n')\n",
    "x = npy.ones(10)\n",
    "print(x)\n",
    "print('\\n3. Array of 10 fives as follows:\\n')\n",
    "x = npy.ones(10)*5\n",
    "print(x)"
   ]
  },
  {
   "cell_type": "markdown",
   "metadata": {},
   "source": [
    "# Question 3:\n",
    "__Write a NumPy program to compute sum of all elements, sum of each column and sum of each row of a\n",
    "given array__"
   ]
  },
  {
   "cell_type": "code",
   "execution_count": 18,
   "metadata": {},
   "outputs": [
    {
     "name": "stdout",
     "output_type": "stream",
     "text": [
      "Original Array:\n",
      " [[2 0 8 6 9 5]\n",
      " [5 7 9 3 4 6]]\n",
      "\n",
      "Sum of all elements are as follows:\n",
      "\n",
      "64\n",
      "\n",
      "Sum of all each column are as follows:\n",
      "\n",
      "[ 7  7 17  9 13 11]\n",
      "\n",
      "Sum of all each row are as follows:\n",
      "\n",
      "[30 34]\n"
     ]
    }
   ],
   "source": [
    "a = npy.array([[2,0,8,6,9,5],[5,7,9,3,4,6]])\n",
    "print('Original Array:\\n',a)\n",
    "print('\\nSum of all elements are as follows:\\n')\n",
    "print(npy.sum(a))\n",
    "print('\\nSum of all each column are as follows:\\n')\n",
    "print(npy.sum(a,axis=0))\n",
    "print('\\nSum of all each row are as follows:\\n')\n",
    "print(npy.sum(a,axis=1))"
   ]
  },
  {
   "cell_type": "markdown",
   "metadata": {},
   "source": [
    "# Question 4:\n",
    "__Write a NumPy program to add, subtract, multiply, divide arguments element-wise.__"
   ]
  },
  {
   "cell_type": "code",
   "execution_count": 32,
   "metadata": {},
   "outputs": [
    {
     "name": "stdout",
     "output_type": "stream",
     "text": [
      "First array:\n",
      "\n",
      "[[2 6 4]\n",
      " [3 7 5]\n",
      " [6 9 6]]\n",
      "\n",
      "Second array:\n",
      "\n",
      "[[7 5 2]\n",
      " [1 2 4]\n",
      " [7 6 4]]\n",
      "\n",
      "Addition:\n",
      "\n",
      "[[ 9 11  6]\n",
      " [ 4  9  9]\n",
      " [13 15 10]]\n",
      "\n",
      "Subtraction:\n",
      "\n",
      "[[-5  1  2]\n",
      " [ 2  5  1]\n",
      " [-1  3  2]]\n",
      "\n",
      "Multiplication:\n",
      "\n",
      "[[14 30  8]\n",
      " [ 3 14 20]\n",
      " [42 54 24]]\n",
      "\n",
      "Divide:\n",
      "\n",
      "[[0.28571429 1.2        2.        ]\n",
      " [3.         3.5        1.25      ]\n",
      " [0.85714286 1.5        1.5       ]]\n"
     ]
    }
   ],
   "source": [
    "a1 = npy.array([[2,6,4],[3,7,5],[6,9,6]])\n",
    "a2 = npy.array([[7,5,2],[1,2,4],[7,6,4]])\n",
    "print('First array:\\n')\n",
    "print(a1)\n",
    "print('\\nSecond array:\\n')\n",
    "print(a2)\n",
    "print('\\nAddition:\\n')\n",
    "print(npy.add(a1,a2))\n",
    "print('\\nSubtraction:\\n')\n",
    "print(npy.subtract(a1,a2))\n",
    "print('\\nMultiplication:\\n')\n",
    "print(npy.multiply(a1,a2))\n",
    "print('\\nDivide:\\n')\n",
    "print(npy.divide(a1,a2))"
   ]
  },
  {
   "cell_type": "markdown",
   "metadata": {},
   "source": [
    "# Question 5:\n",
    "__Write a NumPy program to compute the trigonometric sine, cosine and tangent array of angles given in\n",
    "degree.__"
   ]
  },
  {
   "cell_type": "code",
   "execution_count": 34,
   "metadata": {},
   "outputs": [
    {
     "name": "stdout",
     "output_type": "stream",
     "text": [
      "Trigonometric sine:\n",
      "[[ 0.01587023 -0.00487672 -0.0132087  -0.00487672  0.00719282 -0.00487672]]\n",
      "\n",
      "Trigonometric cosine:\n",
      "[[-0.00726313  0.01675813 -0.01140823  0.01675813 -0.01590222  0.01675813]]\n"
     ]
    }
   ],
   "source": [
    "a1 = npy.array([[2,6,4,6,9,6]])\n",
    "print('Trigonometric sine:')\n",
    "print(npy.sin(a1)*npy.pi/180)\n",
    "print('\\nTrigonometric cosine:')\n",
    "print(npy.cos(a1)*npy.pi/180)\n",
    "print('\\nTrigonometric cosine:')\n",
    "print(npy.tan(a1)*npy.pi/180)"
   ]
  },
  {
   "cell_type": "markdown",
   "metadata": {},
   "source": [
    "# Question 6:\n",
    "__Write a Pandas program to create and display a DataFrame from a specified dictionary data which has the\n",
    "index labels__"
   ]
  },
  {
   "cell_type": "code",
   "execution_count": null,
   "metadata": {},
   "outputs": [],
   "source": []
  }
 ],
 "metadata": {
  "kernelspec": {
   "display_name": "Python 3",
   "language": "python",
   "name": "python3"
  },
  "language_info": {
   "codemirror_mode": {
    "name": "ipython",
    "version": 3
   },
   "file_extension": ".py",
   "mimetype": "text/x-python",
   "name": "python",
   "nbconvert_exporter": "python",
   "pygments_lexer": "ipython3",
   "version": "3.8.3"
  }
 },
 "nbformat": 4,
 "nbformat_minor": 4
}
