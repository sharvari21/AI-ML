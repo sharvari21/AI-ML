{
 "cells": [
  {
   "cell_type": "markdown",
   "metadata": {},
   "source": [
    "## Question 1:\n",
    "__Use the IRIS dataset and create a decision tree and check the accuracy label.__"
   ]
  },
  {
   "cell_type": "code",
   "execution_count": 1,
   "metadata": {},
   "outputs": [],
   "source": [
    "from sklearn.metrics import accuracy_score, recall_score, precision_score, classification_report, confusion_matrix\n",
    "from sklearn.tree import DecisionTreeClassifier\n",
    "from sklearn.model_selection import train_test_split\n",
    "from sklearn.datasets import load_iris\n",
    "from sklearn import tree\n",
    "import pandas as pd"
   ]
  },
  {
   "cell_type": "code",
   "execution_count": 6,
   "metadata": {},
   "outputs": [],
   "source": [
    "#select dataset\n",
    "data_iris = load_iris()\n",
    "#print(data_iris)"
   ]
  },
  {
   "cell_type": "code",
   "execution_count": 8,
   "metadata": {},
   "outputs": [],
   "source": [
    "x = data_iris.data\n",
    "y = data_iris.target\n",
    "#print(x,y)"
   ]
  },
  {
   "cell_type": "code",
   "execution_count": 9,
   "metadata": {},
   "outputs": [],
   "source": [
    "#spliting data for training and testing\n",
    "\n",
    "xtrain, xtest, ytrain, ytest = train_test_split(x,y, test_size=0.2)"
   ]
  },
  {
   "cell_type": "code",
   "execution_count": 10,
   "metadata": {},
   "outputs": [
    {
     "data": {
      "text/plain": [
       "DecisionTreeClassifier()"
      ]
     },
     "execution_count": 10,
     "metadata": {},
     "output_type": "execute_result"
    }
   ],
   "source": [
    "#model selection\n",
    "\n",
    "model = DecisionTreeClassifier().fit(xtrain,ytrain)\n",
    "model"
   ]
  },
  {
   "cell_type": "code",
   "execution_count": 11,
   "metadata": {},
   "outputs": [
    {
     "data": {
      "text/plain": [
       "array([2, 2, 2, 2, 2, 1, 0, 1, 0, 0, 2, 2, 1, 1, 2, 0, 0, 1, 1, 1, 2, 1,\n",
       "       0, 0, 1, 0, 0, 1, 0, 2])"
      ]
     },
     "execution_count": 11,
     "metadata": {},
     "output_type": "execute_result"
    }
   ],
   "source": [
    "#find the predection value\n",
    "\n",
    "ypred = model.predict(xtest)\n",
    "ypred"
   ]
  },
  {
   "cell_type": "code",
   "execution_count": 12,
   "metadata": {},
   "outputs": [
    {
     "name": "stdout",
     "output_type": "stream",
     "text": [
      "Accuracy is =  0.9333333333333333 \n",
      "Precision is =  0.9466666666666667 \n",
      "Recall is =  0.9333333333333333\n"
     ]
    }
   ],
   "source": [
    "#model validation\n",
    "\n",
    "a = accuracy_score(ytest,ypred)\n",
    "p = precision_score(ytest,ypred, average='weighted')\n",
    "r = recall_score(ytest,ypred, average='weighted')\n",
    "print('Accuracy is = ',a,'\\nPrecision is = ',p,'\\nRecall is = ',r)"
   ]
  },
  {
   "cell_type": "code",
   "execution_count": 13,
   "metadata": {},
   "outputs": [
    {
     "data": {
      "text/plain": [
       "array([[10,  0,  0],\n",
       "       [ 0, 10,  2],\n",
       "       [ 0,  0,  8]], dtype=int64)"
      ]
     },
     "execution_count": 13,
     "metadata": {},
     "output_type": "execute_result"
    }
   ],
   "source": [
    "confusion_matrix(ytest,ypred)"
   ]
  },
  {
   "cell_type": "code",
   "execution_count": 14,
   "metadata": {},
   "outputs": [
    {
     "data": {
      "text/plain": [
       "[Text(125.55000000000001, 199.32, 'X[3] <= 0.8\\ngini = 0.666\\nsamples = 120\\nvalue = [40, 38, 42]'),\n",
       " Text(83.7, 163.07999999999998, 'gini = 0.0\\nsamples = 40\\nvalue = [40, 0, 0]'),\n",
       " Text(167.4, 163.07999999999998, 'X[2] <= 4.75\\ngini = 0.499\\nsamples = 80\\nvalue = [0, 38, 42]'),\n",
       " Text(83.7, 126.83999999999999, 'X[3] <= 1.65\\ngini = 0.054\\nsamples = 36\\nvalue = [0, 35, 1]'),\n",
       " Text(41.85, 90.6, 'gini = 0.0\\nsamples = 35\\nvalue = [0, 35, 0]'),\n",
       " Text(125.55000000000001, 90.6, 'gini = 0.0\\nsamples = 1\\nvalue = [0, 0, 1]'),\n",
       " Text(251.10000000000002, 126.83999999999999, 'X[3] <= 1.75\\ngini = 0.127\\nsamples = 44\\nvalue = [0, 3, 41]'),\n",
       " Text(209.25, 90.6, 'X[2] <= 5.05\\ngini = 0.49\\nsamples = 7\\nvalue = [0, 3, 4]'),\n",
       " Text(167.4, 54.359999999999985, 'X[1] <= 2.35\\ngini = 0.375\\nsamples = 4\\nvalue = [0, 3, 1]'),\n",
       " Text(125.55000000000001, 18.119999999999976, 'gini = 0.0\\nsamples = 1\\nvalue = [0, 0, 1]'),\n",
       " Text(209.25, 18.119999999999976, 'gini = 0.0\\nsamples = 3\\nvalue = [0, 3, 0]'),\n",
       " Text(251.10000000000002, 54.359999999999985, 'gini = 0.0\\nsamples = 3\\nvalue = [0, 0, 3]'),\n",
       " Text(292.95, 90.6, 'gini = 0.0\\nsamples = 37\\nvalue = [0, 0, 37]')]"
      ]
     },
     "execution_count": 14,
     "metadata": {},
     "output_type": "execute_result"
    },
    {
     "data": {
      "image/png": "[encoded data removed]",
      "text/plain": [
       "<Figure size 432x288 with 1 Axes>"
      ]
     },
     "metadata": {
      "needs_background": "light"
     },
     "output_type": "display_data"
    }
   ],
   "source": [
    "#decision tree\n",
    "tree.plot_tree(model)"
   ]
  },
  {
   "cell_type": "code",
   "execution_count": null,
   "metadata": {},
   "outputs": [],
   "source": []
  }
 ],
 "metadata": {
  "kernelspec": {
   "display_name": "Python 3",
   "language": "python",
   "name": "python3"
  },
  "language_info": {
   "codemirror_mode": {
    "name": "ipython",
    "version": 3
   },
   "file_extension": ".py",
   "mimetype": "text/x-python",
   "name": "python",
   "nbconvert_exporter": "python",
   "pygments_lexer": "ipython3",
   "version": "3.8.3"
  }
 },
 "nbformat": 4,
 "nbformat_minor": 4
}
