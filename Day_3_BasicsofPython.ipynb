{
 "cells": [
  {
   "cell_type": "markdown",
   "metadata": {},
   "source": [
    "# #Question 1:\n",
    "__Write a program to subtract two complex numbers in Python__\n"
   ]
  },
  {
   "cell_type": "code",
   "execution_count": 13,
   "metadata": {},
   "outputs": [
    {
     "name": "stdout",
     "output_type": "stream",
     "text": [
      "Enter first complex number:7-3j\n",
      "Enter second complex number:4-6j\n",
      "complex number subtraction= (3+3j)\n"
     ]
    }
   ],
   "source": [
    "a = complex(input('Enter first complex number:'))\n",
    "b = complex(input('Enter second complex number:'))\n",
    "c = a-b\n",
    "print('complex number subtraction=',c)"
   ]
  },
  {
   "cell_type": "markdown",
   "metadata": {},
   "source": [
    "# Question 2 :\n",
    "__Write a program to find the fourth root of a number.__\n"
   ]
  },
  {
   "cell_type": "code",
   "execution_count": 12,
   "metadata": {},
   "outputs": [
    {
     "name": "stdout",
     "output_type": "stream",
     "text": [
      "Enter number to find fourth root:16\n",
      "Fourth root of 16.0 is = 2.0\n"
     ]
    }
   ],
   "source": [
    "a = float(int(input('Enter number to find fourth root:')))\n",
    "print('Fourth root of',a,'is =',a**0.25)"
   ]
  },
  {
   "cell_type": "code",
   "execution_count": 11,
   "metadata": {},
   "outputs": [
    {
     "data": {
      "text/plain": [
       "2.0"
      ]
     },
     "execution_count": 11,
     "metadata": {},
     "output_type": "execute_result"
    }
   ],
   "source": [
    "import math\n",
    "a =math.sqrt(math.sqrt(16))\n",
    "a"
   ]
  },
  {
   "cell_type": "markdown",
   "metadata": {},
   "source": [
    "# Question 3:\n",
    "__Write a program to swap two numbers in Python with the help of a temporary variable__"
   ]
  },
  {
   "cell_type": "code",
   "execution_count": 15,
   "metadata": {},
   "outputs": [
    {
     "name": "stdout",
     "output_type": "stream",
     "text": [
      "Enter two number to swap\n",
      "7\n",
      "8\n",
      "Given Numbers: a = 7 b = 8\n",
      "Swapped Numbers: a = 8 b = 7\n"
     ]
    }
   ],
   "source": [
    "print(\"Enter two number to swap\")\n",
    "a = int(input())\n",
    "b = int(input())\n",
    "print('Given Numbers: a =',a,'b =',b,)\n",
    "a = a+b\n",
    "b = a-b\n",
    "a = a-b\n",
    "print('Swapped Numbers: a =',a,'b =',b,)"
   ]
  },
  {
   "cell_type": "markdown",
   "metadata": {},
   "source": [
    "# Question 4:\n",
    "__Write a program to swap two numbers in Python without using a temporary variable.__"
   ]
  },
  {
   "cell_type": "code",
   "execution_count": 17,
   "metadata": {},
   "outputs": [
    {
     "name": "stdout",
     "output_type": "stream",
     "text": [
      "Enter two number to swap\n",
      "95\n",
      "26\n",
      "Given Numbers: a = 95 b = 26\n",
      "Swapped Numbers: a = 26 b = 95\n"
     ]
    }
   ],
   "source": [
    "print(\"Enter two number to swap\")\n",
    "a = int(input())\n",
    "b = int(input())\n",
    "t = 0\n",
    "print('Given Numbers: a =',a,'b =',b,)\n",
    "t = a\n",
    "a = b\n",
    "b = t\n",
    "print('Swapped Numbers: a =',a,'b =',b,)"
   ]
  },
  {
   "cell_type": "markdown",
   "metadata": {},
   "source": [
    "# Question 5:\n",
    "__Write a program to convert Fahrenheit to kelvin and celsius both__"
   ]
  },
  {
   "cell_type": "code",
   "execution_count": 28,
   "metadata": {},
   "outputs": [
    {
     "name": "stdout",
     "output_type": "stream",
     "text": [
      "Enter temprature in farehnite:42\n",
      "In celsius = 5.555555555555555 In kelvin = 278.7055555555555\n"
     ]
    }
   ],
   "source": [
    "f = float(input('Enter temprature in farehnite:'))\n",
    "\n",
    "celsius = (f - 32) * 5/9 \n",
    "kelvin = (f - 32) * 5/9 + 273.15\n",
    "\n",
    "print('In celsius =',celsius,'In kelvin =',kelvin)"
   ]
  },
  {
   "cell_type": "markdown",
   "metadata": {},
   "source": [
    "# Question 6:\n",
    "__Write a program to demonstrate all the available data types in Python. Hint: Use type() function.__"
   ]
  },
  {
   "cell_type": "code",
   "execution_count": 39,
   "metadata": {},
   "outputs": [
    {
     "name": "stdout",
     "output_type": "stream",
     "text": [
      "Type of a is: <class 'str'>\n",
      "Type of a is: <class 'int'>\n",
      "Type of a is: <class 'float'>\n",
      "Type of a is: <class 'bool'>\n",
      "Type of a is: <class 'list'>\n",
      "Type of a is: <class 'tuple'>\n",
      "Type of a is: <class 'set'>\n",
      "Type of a is: <class 'dict'>\n"
     ]
    }
   ],
   "source": [
    "a = \"Sharvari\"\n",
    "#type(a)\n",
    "print('Type of a is:',type(a))\n",
    "a = 123\n",
    "print('Type of a is:',type(a))\n",
    "a = 7.56\n",
    "print('Type of a is:',type(a))\n",
    "a = True\n",
    "print('Type of a is:',type(a))\n",
    "a = [1,3,'hi',2.5]\n",
    "print('Type of a is:',type(a))\n",
    "a = (1,3,'hi',2.5)\n",
    "print('Type of a is:',type(a))\n",
    "a = {1,3,'hi',2.5}\n",
    "print('Type of a is:',type(a))\n",
    "a = {'color1':'red','color2':'blue','color3':'white'}\n",
    "print('Type of a is:',type(a))"
   ]
  }
 ],
 "metadata": {
  "kernelspec": {
   "display_name": "Python 3",
   "language": "python",
   "name": "python3"
  },
  "language_info": {
   "codemirror_mode": {
    "name": "ipython",
    "version": 3
   },
   "file_extension": ".py",
   "mimetype": "text/x-python",
   "name": "python",
   "nbconvert_exporter": "python",
   "pygments_lexer": "ipython3",
   "version": "3.7.6"
  }
 },
 "nbformat": 4,
 "nbformat_minor": 4
}
