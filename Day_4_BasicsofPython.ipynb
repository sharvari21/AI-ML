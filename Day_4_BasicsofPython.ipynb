{
 "cells": [
  {
   "cell_type": "markdown",
   "metadata": {},
   "source": [
    "# Question 1:\n",
    "__Research on whether addition, subtraction, multiplication, division, floor division, and modulo operations\n",
    "be performed on complex numbers. Based on your study, implement a Python program to demonstrate\n",
    "these operations.__\n"
   ]
  },
  {
   "cell_type": "markdown",
   "metadata": {},
   "source": [
    "__Answer: As per my study, Floor and modulus operators (// and % respectively) are not allowed to be used on complex number in Python 3.x. However, these operations are defined for complex numbers in Python 2.7.x.\n",
    "But basic arithmatic operations can be performed on complex number which are as follows.__ "
   ]
  },
  {
   "cell_type": "code",
   "execution_count": 5,
   "metadata": {},
   "outputs": [
    {
     "name": "stdout",
     "output_type": "stream",
     "text": [
      "Enter first complex number:6+8j\n",
      "Enter second complex number:4+9j\n",
      "Basic arithmatic operations on complex number are as follows:\n",
      "complex number addition= (10+17j)\n",
      "complex number subtraction= (2-1j)\n",
      "complex number multiplication= (-48+86j)\n",
      "complex number division= (0.9896907216494845-0.2268041237113402j)\n"
     ]
    }
   ],
   "source": [
    "a = complex(input('Enter first complex number:'))\n",
    "b = complex(input('Enter second complex number:'))\n",
    "print(\"Basic arithmatic operations on complex number are as follows:\",end=\"\\n\")\n",
    "c = a+b\n",
    "print('complex number addition=',c)\n",
    "c = a-b\n",
    "print('complex number subtraction=',c)\n",
    "c = a*b\n",
    "print('complex number multiplication=',c)\n",
    "c = a/b\n",
    "print('complex number division=',c)"
   ]
  },
  {
   "cell_type": "markdown",
   "metadata": {},
   "source": [
    "# Question 2:\n",
    "__Consider two numbers. Perform their subtraction and if the result of subtraction is greater than 25, print\n",
    "their multiplication result else print their division result.__"
   ]
  },
  {
   "cell_type": "code",
   "execution_count": 6,
   "metadata": {},
   "outputs": [
    {
     "name": "stdout",
     "output_type": "stream",
     "text": [
      "Enter two number\n",
      "1\n",
      "30\n",
      "Subtraction of given number is greater than 25, multiplication is 30\n"
     ]
    }
   ],
   "source": [
    "print(\"Enter two number\")\n",
    "a = int(input())\n",
    "b = int(input())\n",
    "if abs(a-b)>25:\n",
    "    print('Subtraction of given number is greater than 25, multiplication is', a*b)\n",
    "else:\n",
    "    print('Subtraction of given number is smaller than 25, division is', a/b)"
   ]
  },
  {
   "cell_type": "markdown",
   "metadata": {},
   "source": [
    "# Question 3:\n",
    "__Consider a list of 10 elements of integer values. If the number in the list is divisible by 2, print the result as\n",
    "\"square of that number minus 2\".__\n"
   ]
  },
  {
   "cell_type": "code",
   "execution_count": 8,
   "metadata": {},
   "outputs": [
    {
     "name": "stdout",
     "output_type": "stream",
     "text": [
      "2\n",
      "1022\n",
      "4622\n",
      "34\n"
     ]
    }
   ],
   "source": [
    "a = [2,43,65,32,68,89,5,9,6,7]\n",
    "for i in a:\n",
    "    if i%2 == 0:\n",
    "        print((i**2)-2)"
   ]
  },
  {
   "cell_type": "markdown",
   "metadata": {},
   "source": [
    "# Question 4:\n",
    "__Consider a list of 10 elements. Print all the elements in the list which are greater than 7 when that number\n",
    "is divided 2.__"
   ]
  },
  {
   "cell_type": "code",
   "execution_count": 10,
   "metadata": {},
   "outputs": [
    {
     "name": "stdout",
     "output_type": "stream",
     "text": [
      "43\n",
      "65\n",
      "32\n",
      "68\n",
      "89\n"
     ]
    }
   ],
   "source": [
    "a = [2,43,65,32,68,89,5,9,6,7]\n",
    "for i in a:\n",
    "    if (i/2)>7:\n",
    "        print(i)"
   ]
  }
 ],
 "metadata": {
  "kernelspec": {
   "display_name": "Python 3",
   "language": "python",
   "name": "python3"
  },
  "language_info": {
   "codemirror_mode": {
    "name": "ipython",
    "version": 3
   },
   "file_extension": ".py",
   "mimetype": "text/x-python",
   "name": "python",
   "nbconvert_exporter": "python",
   "pygments_lexer": "ipython3",
   "version": "3.7.6"
  }
 },
 "nbformat": 4,
 "nbformat_minor": 4
}
