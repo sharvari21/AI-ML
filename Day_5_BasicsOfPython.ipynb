{
 "cells": [
  {
   "cell_type": "markdown",
   "metadata": {},
   "source": [
    "# Question 1 :\n",
    "__Write a Python program to find the first 20 non-even prime natural numbers.__"
   ]
  },
  {
   "cell_type": "code",
   "execution_count": 6,
   "metadata": {},
   "outputs": [
    {
     "name": "stdout",
     "output_type": "stream",
     "text": [
      "First 20 non-even prime natural numbers are as follows:\n",
      "3 1\n",
      "5 2\n",
      "7 3\n",
      "11 4\n",
      "13 5\n",
      "17 6\n",
      "19 7\n",
      "23 8\n",
      "29 9\n",
      "31 10\n",
      "37 11\n",
      "41 12\n",
      "43 13\n",
      "47 14\n",
      "53 15\n",
      "59 16\n",
      "61 17\n",
      "67 18\n",
      "71 19\n",
      "73 20\n"
     ]
    }
   ],
   "source": [
    "a = 1\n",
    "print('First 20 non-even prime natural numbers are as follows:')\n",
    "for i in range(2,101):\n",
    "    for j in range(2,i):\n",
    "        if (i%j) == 0:\n",
    "            break\n",
    "    else:\n",
    "        if i%2 != 0:\n",
    "            if a<=20:\n",
    "                print(i,a)               \n",
    "                a += 1                \n",
    "        "
   ]
  },
  {
   "cell_type": "markdown",
   "metadata": {},
   "source": [
    "# Question 2 :\n",
    "__Write a Python program to implement 15 functions of string.__"
   ]
  },
  {
   "cell_type": "code",
   "execution_count": 29,
   "metadata": {},
   "outputs": [
    {
     "name": "stdout",
     "output_type": "stream",
     "text": [
      "1. Capitalize() function\n",
      "  sharvari ballal  \n",
      "\n",
      "2. center() function\n",
      "  sharvari ballal   \n",
      "\n",
      "3. endswith() function\n",
      "False\n",
      "\n",
      "4. find() function\n",
      "11\n",
      "\n",
      "5. find() function\n",
      "For only 49.00 dollars!\n",
      "\n",
      "6. index() function\n",
      "14\n",
      "\n",
      "7. title() function\n",
      "  Sharvari Ballal  \n",
      "\n",
      "8. strip() function\n",
      "sharvari ballal\n",
      "\n",
      "9. swapcase() function\n",
      "  SHARVARI BALLAL  \n",
      "\n",
      "10. split() function\n",
      "['sharvari', 'ballal']\n",
      "\n",
      "11. replace() function\n",
      "  sharvari deshpande  \n",
      "\n",
      "12. partition() function\n",
      "('  sharvari ', 'ballal', '  ')\n",
      "\n",
      "13. isspace() function\n",
      "False\n",
      "\n",
      "14. isdigit() function\n",
      "False\n",
      "\n",
      "15. isdecimal() function\n",
      "False\n"
     ]
    }
   ],
   "source": [
    "string = \"  sharvari ballal  \"\n",
    "\n",
    "print('1. Capitalize() function')\n",
    "print(string.capitalize())\n",
    "\n",
    "print('\\n2. center() function')\n",
    "print(string.center(20))\n",
    "\n",
    "print('\\n3. endswith() function')\n",
    "print(string.endswith(','))\n",
    "\n",
    "print('\\n4. find() function')\n",
    "print(string.find('bal'))\n",
    "\n",
    "txt = \"For only {price:.2f} dollars!\"\n",
    "print('\\n5. find() function')\n",
    "print(txt.format(price = 49))\n",
    "\n",
    "print('\\n6. index() function')\n",
    "print(string.index('lal'))\n",
    "\n",
    "print('\\n7. title() function')\n",
    "print(string.title())\n",
    "\n",
    "print('\\n8. strip() function')\n",
    "print(string.strip(' '))\n",
    "\n",
    "print('\\n9. swapcase() function')\n",
    "print(string.swapcase())\n",
    "\n",
    "print('\\n10. split() function')\n",
    "print(string.split())\n",
    "\n",
    "print('\\n11. replace() function')\n",
    "print(string.replace(\"ballal\", \"deshpande\"))\n",
    "\n",
    "print('\\n12. partition() function')\n",
    "print(string.partition(\"ballal\"))\n",
    "\n",
    "print('\\n13. isspace() function')\n",
    "print(string.isspace())\n",
    "\n",
    "print('\\n14. isdigit() function')\n",
    "print(string.isdigit())\n",
    "\n",
    "print('\\n15. isdecimal() function')\n",
    "print(string.isdecimal())"
   ]
  },
  {
   "cell_type": "markdown",
   "metadata": {},
   "source": [
    "# Question 3:\n",
    "__Write a Python program to check if the given string is a Palindrome or Anagram or None of them. Display\n",
    "the message accordingly to the user.__"
   ]
  },
  {
   "cell_type": "code",
   "execution_count": 36,
   "metadata": {},
   "outputs": [
    {
     "name": "stdout",
     "output_type": "stream",
     "text": [
      "Enter a string to check palindrome or notarra\n",
      "arra  is palindrome\n",
      "\n",
      "\n",
      "Enter two words to check \n",
      "jkhg\n",
      "hjkg\n",
      "words are anagram\n"
     ]
    }
   ],
   "source": [
    "txt = input('Enter a string to check palindrome or not')\n",
    "if txt == txt[::-1] :\n",
    "    print(txt,' is palindrome')\n",
    "else:\n",
    "    print(txt, ' is not palindrome')\n",
    "    \n",
    "\n",
    "print('\\n\\nEnter two words to check ')\n",
    "txt1 = list(input())\n",
    "txt2 = list(input())\n",
    "if(sorted(txt1)==sorted(txt2)):\n",
    "    print('words are anagram')\n",
    "else:\n",
    "    print('words are not anagram')\n"
   ]
  },
  {
   "cell_type": "markdown",
   "metadata": {},
   "source": [
    "# Question 4:\n",
    "__Write a Python's user-defined function that removes all the additional characters from the string and\n",
    "convert it finally to lower case using built-in lower(). eg: If the string is \"Dr. Darshan Ingle @AIML Trainer\",\n",
    "then the output be \"drdarshaningleaimltrainer\".__"
   ]
  },
  {
   "cell_type": "code",
   "execution_count": 53,
   "metadata": {},
   "outputs": [
    {
     "name": "stdout",
     "output_type": "stream",
     "text": [
      "write a sentence which holds special charecter:\n",
      "sharvari@gmail.com\n",
      "sharvarigmailcom"
     ]
    }
   ],
   "source": [
    "def check(txt):\n",
    "    alphabets = 'abcdefghijklmnopqrstuvwxyz'\n",
    "    A = list(alphabets)\n",
    "    i4 = txt.lower()\n",
    "    j4 = list(i4)\n",
    "    for i in j4:\n",
    "        a4 = i in A\n",
    "        if a4 == True:\n",
    "            print(i,end = '')\n",
    "    \n",
    "print('write a sentence which holds special charecter:')\n",
    "str1 = input()\n",
    "check(str1)\n"
   ]
  }
 ],
 "metadata": {
  "kernelspec": {
   "display_name": "Python 3",
   "language": "python",
   "name": "python3"
  },
  "language_info": {
   "codemirror_mode": {
    "name": "ipython",
    "version": 3
   },
   "file_extension": ".py",
   "mimetype": "text/x-python",
   "name": "python",
   "nbconvert_exporter": "python",
   "pygments_lexer": "ipython3",
   "version": "3.7.6"
  }
 },
 "nbformat": 4,
 "nbformat_minor": 4
}
