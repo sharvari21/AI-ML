{
 "cells": [
  {
   "cell_type": "markdown",
   "metadata": {},
   "source": [
    "# Question 1 :\n",
    "__Assuming that we have some email addresses in the \"username@companyname.com\" format, please\n",
    "write a program to print the company name of a given email address. Both user names and company\n",
    "names are composed of letters only.\n",
    "Input Format:\n",
    "The first line of the input contains an email address.\n",
    "Output Format:\n",
    "Print the company name in a single line.\n",
    "Example;\n",
    "Input:\n",
    "john@google.com\n",
    "Output:\n",
    "google.__"
   ]
  },
  {
   "cell_type": "code",
   "execution_count": 6,
   "metadata": {},
   "outputs": [
    {
     "name": "stdout",
     "output_type": "stream",
     "text": [
      "Enter Email ID: srballal@yahoo.com\n",
      "Output:  yahoo\n"
     ]
    }
   ],
   "source": [
    "string = input('Enter Email ID: ')\n",
    "stra = string[::-1]\n",
    "ind = stra.index('.')\n",
    "ind2 = stra.index('@')\n",
    "substr = stra[ind+1:ind2]\n",
    "print(\"Output: \",substr[::-1])\n"
   ]
  },
  {
   "cell_type": "markdown",
   "metadata": {},
   "source": [
    "# Question 2 :\n",
    "__Write a program that accepts a comma-separated sequence of words as input and prints the words in a\n",
    "comma-separated sequence after sorting them alphabetically.\n",
    "Input Format:\n",
    "The first line of input contains words separated by the comma.\n",
    "Output Format:\n",
    "Print the sorted words separated by the comma.\n",
    "Example:\n",
    "Input:\n",
    "without,hello,bag,world\n",
    "Output:\n",
    "bag,hello,without,world__"
   ]
  },
  {
   "cell_type": "code",
   "execution_count": 15,
   "metadata": {},
   "outputs": [
    {
     "name": "stdout",
     "output_type": "stream",
     "text": [
      "Enter values: without,hello,bag,world\n",
      "bag,hello,without,world,"
     ]
    }
   ],
   "source": [
    "lst = list(input('Enter values: ').split(','))\n",
    "lst.sort()\n",
    "for x in lst:\n",
    "    print(x,end=',')"
   ]
  },
  {
   "cell_type": "markdown",
   "metadata": {},
   "source": [
    "# Question 3:\n",
    "__Create your own Jupyter Notebook for Sets. Reference link:\n",
    "https://www.w3schools.com/python/python_sets.asp__"
   ]
  },
  {
   "cell_type": "code",
   "execution_count": 26,
   "metadata": {},
   "outputs": [
    {
     "name": "stdout",
     "output_type": "stream",
     "text": [
      "Sets and its functions are as follows:\n",
      "\n",
      "Orignal Set:  {'apple', 'cherry', 'banana'}\n",
      "\n",
      "Adding an iten in set:\n",
      "{'apple', 'cherry', 'banana', 'orange'}\n",
      "\n",
      "Remove an item in set:\n",
      "{'apple', 'cherry', 'orange'}\n",
      "\n",
      "Remove the last item in set:\n",
      "Poped item is:  apple\n",
      "{'cherry', 'orange'}\n",
      "\n",
      "Empty the set:\n",
      "set()\n",
      "\n",
      "Union of two sets:\n",
      "{1, 2, 3, 'b', 'c', 'a'}\n",
      "\n",
      "Update in two sets:\n",
      "{1, 2, 3, 'b', 'c', 'a'}\n"
     ]
    }
   ],
   "source": [
    "print(\"Sets and its functions are as follows:\\n\")\n",
    "thisset = {\"apple\", \"banana\", \"cherry\"}\n",
    "print(\"Orignal Set: \",thisset)\n",
    "print(\"\\nAdding an iten in set:\")\n",
    "thisset.add(\"orange\")\n",
    "print(thisset)\n",
    "print(\"\\nRemove an item in set:\")\n",
    "thisset.remove(\"banana\")\n",
    "print(thisset)\n",
    "print(\"\\nRemove the last item in set:\")\n",
    "x = thisset.pop()\n",
    "print(\"Poped item is: \",x)\n",
    "print(thisset)\n",
    "print(\"\\nEmpty the set:\")\n",
    "thisset.clear()\n",
    "print(thisset)\n",
    "print(\"\\nUnion of two sets:\")\n",
    "set1 = {\"a\", \"b\" , \"c\"}\n",
    "set2 = {1, 2, 3}\n",
    "set3 = set1.union(set2)\n",
    "print(set3)\n",
    "print(\"\\nUpdate in two sets:\")\n",
    "set1.update(set2)\n",
    "print(set1)"
   ]
  },
  {
   "cell_type": "markdown",
   "metadata": {},
   "source": [
    "# Question 4:\n",
    "__Given a list of n-1 numbers ranging from 1 to n, your task is to find the missing number. There are no\n",
    "duplicates.\n",
    "Input Format:\n",
    "The first line contains n-1 numbers with each number separated by a space.\n",
    "Output Format:\n",
    "Print the missing number\n",
    "Example:\n",
    "Input:\n",
    "1 2 4 6 3 7 8\n",
    "Output:\n",
    "5\n",
    "Explanation:\n",
    "In the above list of numbers 5 is missing and hence 5 is the input__"
   ]
  },
  {
   "cell_type": "code",
   "execution_count": 40,
   "metadata": {},
   "outputs": [
    {
     "name": "stdout",
     "output_type": "stream",
     "text": [
      "Enter the range for list: 10\n",
      "Enter values: 5 1 4 2 6\n",
      "\n",
      "Missing values:\n",
      "8 9 3 7 "
     ]
    }
   ],
   "source": [
    "x = int(input('Enter the range for list: '))\n",
    "l = set(list(range(1,x)))\n",
    "l1 = []\n",
    "lst = set(input('Enter values: ').split(' '))\n",
    "for i in lst:\n",
    "    l1.append(int(i))\n",
    "st = set(l1)\n",
    "nst = l.difference(st)\n",
    "print('\\nMissing values:')\n",
    "for i in nst:\n",
    "    print(i,end=' ')\n"
   ]
  },
  {
   "cell_type": "markdown",
   "metadata": {},
   "source": [
    "# Question 5:\n",
    "__With a given list L, write a program to print this list L after removing all duplicate values with original order\n",
    "reserved.\n",
    "Example:\n",
    "If the input list is\n",
    "12 24 35 24 88 120 155 88 120 155\n",
    "Then the output should be\n",
    "12 24 35 88 120 155\n",
    "Explanation:\n",
    "Third, the seventh and ninth element of the list L has been removed because it was already present.\n",
    "Input Format:\n",
    "In one line take the elements of the list L with each element separated by a space.\n",
    "Output Format:\n",
    "Print the elements of the modified list in one line with each element separated by a space.\n",
    "Example:\n",
    "Input:\n",
    "12 24 35 24\n",
    "Output:\n",
    "12 24 35__"
   ]
  },
  {
   "cell_type": "code",
   "execution_count": 8,
   "metadata": {},
   "outputs": [
    {
     "name": "stdout",
     "output_type": "stream",
     "text": [
      "Enter values: 12 24 35 24 88 120 155 88 120 155\n",
      "12 24 35 88 120 155 "
     ]
    }
   ],
   "source": [
    "e = []\n",
    "lst = list(input('Enter values: ').split(' '))\n",
    "for x in lst:\n",
    "    e.append(int(x))\n",
    "d = set(e)\n",
    "a = list(d)\n",
    "a.sort()\n",
    "for i in a:\n",
    "    print(i,end=' ')"
   ]
  }
 ],
 "metadata": {
  "kernelspec": {
   "display_name": "Python 3",
   "language": "python",
   "name": "python3"
  },
  "language_info": {
   "codemirror_mode": {
    "name": "ipython",
    "version": 3
   },
   "file_extension": ".py",
   "mimetype": "text/x-python",
   "name": "python",
   "nbconvert_exporter": "python",
   "pygments_lexer": "ipython3",
   "version": "3.7.6"
  }
 },
 "nbformat": 4,
 "nbformat_minor": 4
}
