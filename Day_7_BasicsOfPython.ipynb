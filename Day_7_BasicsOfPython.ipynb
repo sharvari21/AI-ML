{
 "cells": [
  {
   "cell_type": "markdown",
   "metadata": {},
   "source": [
    "# Question 1:\n",
    "__Write a program to copy the contents of one file to another using a for loop. (Don’t use built-in copy\n",
    "function)__"
   ]
  },
  {
   "cell_type": "code",
   "execution_count": 14,
   "metadata": {},
   "outputs": [],
   "source": [
    "f = open(\"test.txt\",\"w\")\n",
    "f.write(\"Hello,Write a program to copy the contents of one \\n file to another using a for loop. \\n Don’t use built-in copy function \")\n",
    "f.close()\n",
    "f1 = open(\"test1.txt\",\"w\")\n",
    "f1 = open(\"test1.txt\",\"a\")\n",
    "f = open(\"test.txt\", \"r\")\n",
    "for x in f:\n",
    "    f1.write(x)    \n",
    "f1.close()\n"
   ]
  },
  {
   "cell_type": "markdown",
   "metadata": {},
   "source": [
    "# Question 2:\n",
    "__Write a Python program to find maximum and minimum values in the dictionary. Do not use built-in min\n",
    "and max functions.__"
   ]
  },
  {
   "cell_type": "code",
   "execution_count": 16,
   "metadata": {},
   "outputs": [
    {
     "name": "stdout",
     "output_type": "stream",
     "text": [
      "Minimum is  15  & Maximum is  58\n"
     ]
    }
   ],
   "source": [
    "A = {1:34, 2:56, 4:15, 7:58}\n",
    "B = list(A.values()) \n",
    "B.sort()   \n",
    "Min = B[0]  \n",
    "Max = B[-1]\n",
    "print('Minimum is ',Min,' & Maximum is ',Max)"
   ]
  }
 ],
 "metadata": {
  "kernelspec": {
   "display_name": "Python 3",
   "language": "python",
   "name": "python3"
  },
  "language_info": {
   "codemirror_mode": {
    "name": "ipython",
    "version": 3
   },
   "file_extension": ".py",
   "mimetype": "text/x-python",
   "name": "python",
   "nbconvert_exporter": "python",
   "pygments_lexer": "ipython3",
   "version": "3.7.6"
  }
 },
 "nbformat": 4,
 "nbformat_minor": 4
}
