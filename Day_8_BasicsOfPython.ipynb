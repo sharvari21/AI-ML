{
 "cells": [
  {
   "cell_type": "markdown",
   "metadata": {},
   "source": [
    "# Question 1:\n",
    "__Recreate “NB 21 map, filter, lambda.ipynb” to try different variations or perform different calculations from\n",
    "the ones that are in the NB__"
   ]
  },
  {
   "cell_type": "code",
   "execution_count": 2,
   "metadata": {},
   "outputs": [
    {
     "name": "stdout",
     "output_type": "stream",
     "text": [
      "2 3 5 7 11 13 17 19 23 29 31 37 41 43 47 53 59 61 67 71 73 79 83 89 97 101 103 107 109 113 127 131 137 139 149 151 157 163 167 173 179 181 191 193 197 199 "
     ]
    }
   ],
   "source": [
    "Nlist = range(2,200)\n",
    "def isPrime(num):    \n",
    "    for j in range(2,num):\n",
    "        if(num % j) == 0:\n",
    "            return False\n",
    "    else:\n",
    "        return True\n",
    "    \n",
    "res = filter(isPrime,Nlist)\n",
    "for i in res:\n",
    "    print(i,end=\" \")\n",
    "#list(res)"
   ]
  },
  {
   "cell_type": "code",
   "execution_count": 11,
   "metadata": {},
   "outputs": [
    {
     "name": "stdout",
     "output_type": "stream",
     "text": [
      "2 4 6 8 10 12 14 16 18 20 22 24 26 28 "
     ]
    }
   ],
   "source": [
    "def even(n):\n",
    "    if n%2 == 0:\n",
    "        return n\n",
    "l = range(30)\n",
    "x = filter(even,l)\n",
    "for i in x:\n",
    "    print(i,end = \" \")"
   ]
  },
  {
   "cell_type": "code",
   "execution_count": 18,
   "metadata": {},
   "outputs": [
    {
     "name": "stdout",
     "output_type": "stream",
     "text": [
      "[1, 8, 27, 64, 125, 216, 343, 512, 729]\n"
     ]
    }
   ],
   "source": [
    "L1 = (1,2,3,4,5,6,7,8,9)\n",
    "\n",
    "print(list(map(lambda x : x**3 ,L1)))"
   ]
  },
  {
   "cell_type": "markdown",
   "metadata": {},
   "source": [
    "### reduce()"
   ]
  },
  {
   "cell_type": "code",
   "execution_count": 21,
   "metadata": {},
   "outputs": [
    {
     "name": "stdout",
     "output_type": "stream",
     "text": [
      "285\n"
     ]
    }
   ],
   "source": [
    "from functools import reduce\n",
    "def red(a,b):\n",
    "    return a+b**2\n",
    "a = reduce(red, range(10))\n",
    "print(a)"
   ]
  },
  {
   "cell_type": "markdown",
   "metadata": {},
   "source": [
    "# Question 2:\n",
    "__Recreate your own Python NB for “Classes and Objects” from the pdf provided namely\n",
    "“Classes&Objects.pdf”__"
   ]
  },
  {
   "cell_type": "code",
   "execution_count": 24,
   "metadata": {},
   "outputs": [
    {
     "name": "stdout",
     "output_type": "stream",
     "text": [
      "we are in class\n"
     ]
    }
   ],
   "source": [
    "class test:\n",
    "    def output(self):\n",
    "        print(\"we are in class\")\n",
    "t1 = test()\n",
    "t1.output()"
   ]
  },
  {
   "cell_type": "code",
   "execution_count": 29,
   "metadata": {},
   "outputs": [
    {
     "name": "stdout",
     "output_type": "stream",
     "text": [
      "Cone Radius is =  4.5\n",
      "Cone height is =  5.6\n",
      "Volume of cone is  118.75220230569417\n",
      "Surface area of cone is  165.17880022687368\n"
     ]
    }
   ],
   "source": [
    "import math\n",
    "class cone:\n",
    "    r = 0.0\n",
    "    h = 0.0\n",
    "    def volume(r1,h1):\n",
    "        v = math.pi*math.pow( r1, 2)*(h1/3)\n",
    "        print(\"Volume of cone is \",v)\n",
    "    def surface_area(r2,h2):\n",
    "        a = math.sqrt(math.pow(r2,2)+math.pow(h2,2))\n",
    "        #print(a)\n",
    "        s = math.pi*r2*(r2+a)\n",
    "        print(\"Surface area of cone is \",s)\n",
    "    def __init__(self,r,h):\n",
    "        self.r = r\n",
    "        self.h = h\n",
    "        print(\"Cone Radius is = \",self.r)\n",
    "        print(\"Cone height is = \",self.h)\n",
    "c1 = cone(4.5,5.6)\n",
    "cone.volume(4.5,5.6)  \n",
    "cone.surface_area(4.5,5.6)"
   ]
  }
 ],
 "metadata": {
  "kernelspec": {
   "display_name": "Python 3",
   "language": "python",
   "name": "python3"
  },
  "language_info": {
   "codemirror_mode": {
    "name": "ipython",
    "version": 3
   },
   "file_extension": ".py",
   "mimetype": "text/x-python",
   "name": "python",
   "nbconvert_exporter": "python",
   "pygments_lexer": "ipython3",
   "version": "3.7.6"
  }
 },
 "nbformat": 4,
 "nbformat_minor": 4
}
